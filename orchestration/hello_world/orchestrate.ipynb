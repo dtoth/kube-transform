{
 "cells": [
  {
   "cell_type": "markdown",
   "metadata": {},
   "source": [
    "This notebook is intended to be run from the host machine to submit jobs to Kubernetes."
   ]
  },
  {
   "cell_type": "code",
   "execution_count": 89,
   "metadata": {},
   "outputs": [],
   "source": [
    "PROJECT_NAME = 'hello_world'"
   ]
  },
  {
   "cell_type": "code",
   "execution_count": 90,
   "metadata": {},
   "outputs": [
    {
     "name": "stdout",
     "output_type": "stream",
     "text": [
      "The autoreload extension is already loaded. To reload it, use:\n",
      "  %reload_ext autoreload\n"
     ]
    }
   ],
   "source": [
    "%load_ext autoreload\n",
    "%autoreload 2\n",
    "\n",
    "import sys\n",
    "sys.path.extend([\n",
    "    \"../../\",\n",
    "    \"../../execution\",\n",
    "    \"../../orchestration\",\n",
    "])\n",
    "\n",
    "import os\n",
    "from orchestration.hello_world import orchestrate as orch\n",
    "from orchestration.submit import submit_job\n",
    "\n",
    "os.environ['PROJECT_NAME'] = PROJECT_NAME"
   ]
  },
  {
   "cell_type": "code",
   "execution_count": null,
   "metadata": {},
   "outputs": [],
   "source": [
    "# Build Local Execution Image\n",
    "os.environ['K8S_ENV'] = 'minikube'\n",
    "os.environ['DATA_DIR'] = '/'.join(os.getcwd().split(\"/\")[:-2] + ['data'])\n",
    "! ../../build_scripts/build_local.sh"
   ]
  },
  {
   "cell_type": "markdown",
   "metadata": {},
   "source": [
    "Let's run the hello_world data transformation.\n",
    "\n",
    "Our hello_world_orchestration function will take in a directory path (relative to our DATA_DIR).  It will:\n",
    "- List the data files in the directory.\n",
    "- Assign 1 task to handle each data file.\n",
    "- Each task will request that the hello_world_execution function is run on a given input file."
   ]
  },
  {
   "cell_type": "code",
   "execution_count": 100,
   "metadata": {},
   "outputs": [
    {
     "data": {
      "text/plain": [
       "{'tasks': [{'function': 'hello_world_execution',\n",
       "   'args': {'input_path': 'hello_world/raw/part_2.txt',\n",
       "    'output_path': 'hello_world/processed/part_2.txt'}},\n",
       "  {'function': 'hello_world_execution',\n",
       "   'args': {'input_path': 'hello_world/raw/part_1.txt',\n",
       "    'output_path': 'hello_world/processed/part_1.txt'}}],\n",
       " 'memory': '250Mi',\n",
       " 'cpu': '200m',\n",
       " 'job_name': 'hello-world-execution-6ad67aec'}"
      ]
     },
     "execution_count": 100,
     "metadata": {},
     "output_type": "execute_result"
    }
   ],
   "source": [
    "job_config = orch.hello_world_orchestration(\n",
    "    input_directory=\"hello_world/raw\",\n",
    "    output_directory=\"hello_world/processed\",\n",
    ")\n",
    "job_config"
   ]
  },
  {
   "cell_type": "markdown",
   "metadata": {},
   "source": [
    "Now, let's submit the job to the cluster.\n",
    "\n",
    "Since we have 2 data files, it should spin up 2 tasks.\n",
    "\n",
    "Each task will create a new file that is the same as the input file, but with \"Hello World\" added to the start of each line."
   ]
  },
  {
   "cell_type": "code",
   "execution_count": 101,
   "metadata": {},
   "outputs": [
    {
     "name": "stdout",
     "output_type": "stream",
     "text": [
      "Task Config uploaded to S3: hello-world-execution-6ad67aec/tasks.json\n",
      "Job hello-world-execution-6ad67aec created!\n",
      "Job hello-world-execution-6ad67aec completed!\n"
     ]
    }
   ],
   "source": [
    "submit_job(job_config)"
   ]
  },
  {
   "cell_type": "markdown",
   "metadata": {},
   "source": [
    "The above code should finish in a few seconds.  If you run `kubectl get pods` in a terminal, you should see 2 complete tasks"
   ]
  },
  {
   "cell_type": "code",
   "execution_count": 94,
   "metadata": {},
   "outputs": [
    {
     "name": "stdout",
     "output_type": "stream",
     "text": [
      "NAME                                     READY   STATUS      RESTARTS   AGE\n",
      "hello-world-execution-a857ec8c-0-swpwf   0/1     Completed   0          11s\n",
      "hello-world-execution-a857ec8c-1-kbbpp   0/1     Completed   0          11s\n"
     ]
    }
   ],
   "source": [
    "! kubectl get pods"
   ]
  },
  {
   "cell_type": "markdown",
   "metadata": {},
   "source": [
    "And you should now have 2 processed data files:"
   ]
  },
  {
   "cell_type": "code",
   "execution_count": 95,
   "metadata": {},
   "outputs": [
    {
     "name": "stdout",
     "output_type": "stream",
     "text": [
      "part_1.txt part_2.txt\n"
     ]
    }
   ],
   "source": [
    "! ls ../../data/hello_world/processed/"
   ]
  },
  {
   "cell_type": "markdown",
   "metadata": {},
   "source": [
    "If you open a data file, you'll see the results:"
   ]
  },
  {
   "cell_type": "code",
   "execution_count": 96,
   "metadata": {},
   "outputs": [
    {
     "name": "stdout",
     "output_type": "stream",
     "text": [
      "\n",
      "--- Input ---\n",
      "A\n",
      "B\n",
      "--- Output ---\n",
      "Hello World: A\n",
      "Hello World: B"
     ]
    }
   ],
   "source": [
    "! echo '\\n--- Input ---'\n",
    "! cat ../../data/hello_world/raw/part_1.txt\n",
    "! echo '\\n--- Output ---'\n",
    "! cat ../../data/hello_world/processed/part_1.txt"
   ]
  },
  {
   "cell_type": "markdown",
   "metadata": {},
   "source": [
    "# Running in EKS"
   ]
  },
  {
   "cell_type": "markdown",
   "metadata": {},
   "source": [
    "Now, go back to the README and follow the setup instructions for running transformations in EKS.\n",
    "\n",
    "Then, come back to this point.\n"
   ]
  },
  {
   "cell_type": "code",
   "execution_count": null,
   "metadata": {},
   "outputs": [],
   "source": [
    "# Build the image, push to ECR, and configure your local kubenetes to point to the remote cluster\n",
    "\n",
    "import boto3\n",
    "os.environ['AWS_ACCOUNT_ID'] = boto3.client(\"sts\").get_caller_identity()[\"Account\"]\n",
    "os.environ['K8S_ENV'] = 'eks'\n",
    "os.environ['DATA_DIR'] = 's3://kube-transform-data-bucket'\n",
    "! ../../build_scripts/build_eks.sh"
   ]
  },
  {
   "cell_type": "markdown",
   "metadata": {},
   "source": [
    "Now let's upload the Hello World raw data to S3"
   ]
  },
  {
   "cell_type": "code",
   "execution_count": 98,
   "metadata": {},
   "outputs": [
    {
     "name": "stdout",
     "output_type": "stream",
     "text": [
      "upload: ../../data/hello_world/raw/part_1.txt to s3://kube-transform-data-bucket/hello_world/raw/part_1.txt\n",
      "upload: ../../data/hello_world/raw/part_2.txt to s3://kube-transform-data-bucket/hello_world/raw/part_2.txt\n"
     ]
    }
   ],
   "source": [
    "! aws s3 cp ../../data/hello_world/raw s3://kube-transform-data-bucket/hello_world/raw --recursive\n"
   ]
  },
  {
   "cell_type": "markdown",
   "metadata": {},
   "source": [
    "Now, go back up to the top of this notebook, just after the local build.\n",
    "\n",
    "Run the cells with:\n",
    "`job_config = ...`\n",
    "and\n",
    "`submit_job(job_config)`\n",
    "\n",
    "You can run the exact same code - but now, it should all run in your EKS cluster.\n",
    "\n",
    "Once that's done, return here."
   ]
  },
  {
   "cell_type": "code",
   "execution_count": 102,
   "metadata": {},
   "outputs": [
    {
     "name": "stdout",
     "output_type": "stream",
     "text": [
      "NAME                                     READY   STATUS      RESTARTS   AGE\n",
      "hello-world-execution-6ad67aec-0-b56rw   0/1     Completed   0          57s\n",
      "hello-world-execution-6ad67aec-1-mbg2d   0/1     Completed   0          57s\n"
     ]
    }
   ],
   "source": [
    "# Check your status with the following command\n",
    "! kubectl get pods\n",
    "\n",
    "# Note that there may be some additional overhead time to spin up an EKS node."
   ]
  },
  {
   "cell_type": "code",
   "execution_count": 103,
   "metadata": {},
   "outputs": [
    {
     "name": "stdout",
     "output_type": "stream",
     "text": [
      "\n",
      "--- Input ---\n",
      "A\n",
      "B\n",
      "--- Output ---\n",
      "Hello World: A\n",
      "Hello World: B"
     ]
    }
   ],
   "source": [
    "# Once complete, check the results in S3\n",
    "! echo '\\n--- Input ---'\n",
    "! aws s3 cp s3://kube-transform-data-bucket/hello_world/raw/part_1.txt - \n",
    "! echo '\\n--- Output ---'\n",
    "! aws s3 cp s3://kube-transform-data-bucket/hello_world/processed/part_1.txt - \n"
   ]
  }
 ],
 "metadata": {
  "kernelspec": {
   "display_name": "venv",
   "language": "python",
   "name": "python3"
  },
  "language_info": {
   "codemirror_mode": {
    "name": "ipython",
    "version": 3
   },
   "file_extension": ".py",
   "mimetype": "text/x-python",
   "name": "python",
   "nbconvert_exporter": "python",
   "pygments_lexer": "ipython3",
   "version": "3.12.8"
  }
 },
 "nbformat": 4,
 "nbformat_minor": 2
}
