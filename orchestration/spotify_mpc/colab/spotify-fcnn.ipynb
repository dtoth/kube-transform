{
  "cells": [
    {
      "cell_type": "code",
      "execution_count": null,
      "metadata": {
        "id": "8h0oSetMr_9J"
      },
      "outputs": [],
      "source": [
        "import pandas as pd\n",
        "import os\n",
        "from tensorflow.keras import layers, models\n",
        "import numpy as np"
      ]
    },
    {
      "cell_type": "code",
      "execution_count": null,
      "metadata": {
        "colab": {
          "base_uri": "https://localhost:8080/"
        },
        "id": "G5qH8MEU0o9Y",
        "outputId": "a8dae368-5b5b-4fbc-83f9-61da1cae7f77"
      },
      "outputs": [],
      "source": [
        "# Run this (or a similar command) if needed to unzip the sample data\n",
        "! unzip -o drive/MyDrive/spotify-mpc-samples.zip"
      ]
    },
    {
      "cell_type": "code",
      "execution_count": null,
      "metadata": {},
      "outputs": [],
      "source": [
        "TRAINING_DIRS = [\n",
        "    'samples_fcnn_training',\n",
        "]\n",
        "TEST_DIRS = [\n",
        "    'samples_fcnn'\n",
        "]"
      ]
    },
    {
      "cell_type": "code",
      "execution_count": null,
      "metadata": {
        "id": "YVfzIARn03Sb"
      },
      "outputs": [],
      "source": [
        "def prepare_data(directories):\n",
        "    all_paths = []\n",
        "    for directory in directories:\n",
        "        fns = os.listdir(directory)\n",
        "        paths = [os.path.join(directory, fn) for fn in fns]\n",
        "        all_paths.extend(paths)\n",
        "    df = pd.concat([pd.read_parquet(path) for path in paths])\n",
        "\n",
        "    N = 60_000 # Change to 950_000 for the full contest dataset\n",
        "    df['mean_seed_track_occurrences_norm'] = df.mean_seed_track_occurrences / N\n",
        "    df['mean_ngram_occurrences_norm'] = df.mean_ngram_occurrences / N\n",
        "    df['num_seed_tracks_norm'] = df.num_seed_tracks / 100\n",
        "    df['num_ngrams_norm'] = df.num_ngrams / 100\n",
        "    df['candidate_track_popularity_norm'] = df.candidate_track_popularity / N\n",
        "    df['candidate_artist_popularity_norm'] = df.candidate_artist_popularity / N\n",
        "\n",
        "\n",
        "    X_train = df.drop(columns=[\n",
        "        'is_hidden_track',\n",
        "        'candidate_track_id',\n",
        "        'num_seed_tracks',\n",
        "        'num_ngrams',\n",
        "        'pid',\n",
        "        'challenge_type',\n",
        "        'last_seed',\n",
        "        'last_seed_pair',\n",
        "        'last_seed_triple',\n",
        "        'mean_seed_track_occurrences',\n",
        "        'mean_ngram_occurrences',\n",
        "        'candidate_track_popularity',\n",
        "        'candidate_artist_popularity'\n",
        "\n",
        "    ])\n",
        "    print(X_train.columns)\n",
        "    X_train = X_train.astype(float).values\n",
        "    y_train = df['is_hidden_track'].astype(float).values\n",
        "    return df, X_train, y_train"
      ]
    },
    {
      "cell_type": "code",
      "execution_count": null,
      "metadata": {
        "colab": {
          "base_uri": "https://localhost:8080/",
          "height": 831
        },
        "id": "o_vX13egtUWN",
        "outputId": "e260bc92-2113-42e4-ce7f-148b6a79776e"
      },
      "outputs": [],
      "source": [
        "# Define the model class\n",
        "class FCNNModel(models.Model):\n",
        "    def __init__(self, input_dim):\n",
        "        super(FCNNModel, self).__init__()\n",
        "        # Define hidden layers\n",
        "        self.dense1 = layers.Dense(128, activation='relu', input_dim=input_dim)\n",
        "        self.dense2 = layers.Dense(64, activation='relu')\n",
        "        self.output_layer = layers.Dense(1, activation='sigmoid')\n",
        "\n",
        "    def call(self, inputs):\n",
        "        x = self.dense1(inputs)\n",
        "        x = self.dense2(x)\n",
        "        return self.output_layer(x)\n",
        "\n",
        "# Create an instance of the model\n",
        "df, X_train, y_train = prepare_data(TRAINING_DIRS)\n",
        "\n",
        "input_dim = X_train.shape[1]  # Number of features\n",
        "model = FCNNModel(input_dim)\n",
        "\n",
        "# Compile the model with binary cross-entropy loss and the Adam optimizer\n",
        "model.compile(optimizer='adam', loss='binary_crossentropy', metrics=['accuracy'])\n",
        "\n",
        "# Train the model using the data\n",
        "model.fit(X_train, y_train, epochs=10, batch_size=1024, validation_split=0.1)"
      ]
    },
    {
      "cell_type": "code",
      "execution_count": null,
      "metadata": {
        "colab": {
          "base_uri": "https://localhost:8080/"
        },
        "id": "qZtZCTAe1Bgm",
        "outputId": "57f632e4-2384-4a32-82c7-cead68438c2b"
      },
      "outputs": [],
      "source": [
        "df, X_train, y_train = prepare_data(TEST_DIRS)"
      ]
    },
    {
      "cell_type": "code",
      "execution_count": null,
      "metadata": {
        "colab": {
          "base_uri": "https://localhost:8080/"
        },
        "id": "20yLy0PC1WuC",
        "outputId": "e349a681-c526-4e80-e5bb-ddfce8319f39"
      },
      "outputs": [],
      "source": [
        "df['prediction'] = model.predict(X_train, batch_size=1024*32)\n",
        "df['pid'] = df.pid.astype(int)\n",
        "df['candidate_track_id'] = df.candidate_track_id.astype(int)"
      ]
    },
    {
      "cell_type": "code",
      "execution_count": null,
      "metadata": {
        "colab": {
          "base_uri": "https://localhost:8080/"
        },
        "id": "LMMABQG67mzr",
        "outputId": "90e062b9-4ded-4477-eb9e-2e8b405d6303"
      },
      "outputs": [],
      "source": [
        "def get_suggestions(group):\n",
        "    return group.sort_values(\n",
        "        'prediction', ascending=False\n",
        "    )[:500].candidate_track_id.values\n",
        "\n",
        "# Group by 'pid' and apply the function\n",
        "result = df.groupby('pid').apply(get_suggestions)\n",
        "suggested = pd.DataFrame(result)\n",
        "suggested.index.name = None\n",
        "suggested.columns = ['suggested']"
      ]
    },
    {
      "cell_type": "code",
      "execution_count": null,
      "metadata": {
        "id": "neEqYkdB1rFJ"
      },
      "outputs": [],
      "source": [
        "fn = 'submission_MPC_fcnn.parquet'\n",
        "suggested.to_parquet(fn)\n",
        "\n",
        "# Once this completes, download the submission file"
      ]
    }
  ],
  "metadata": {
    "colab": {
      "machine_shape": "hm",
      "provenance": []
    },
    "kernelspec": {
      "display_name": "Python 3",
      "name": "python3"
    },
    "language_info": {
      "name": "python"
    }
  },
  "nbformat": 4,
  "nbformat_minor": 0
}
